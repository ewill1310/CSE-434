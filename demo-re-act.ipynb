{
 "cells": [
  {
   "cell_type": "markdown",
   "id": "ad694f66",
   "metadata": {},
   "source": [
    "# ReAct Agent Demo using LangChain with Wikipedia"
   ]
  },
  {
   "cell_type": "code",
   "execution_count": 3,
   "id": "8b911d68",
   "metadata": {},
   "outputs": [],
   "source": [
    "# Import required libraries\n",
    "from dotenv import load_dotenv; load_dotenv()\n",
    "from langchain.agents import AgentType, initialize_agent, Tool\n",
    "from langchain_openai import ChatOpenAI\n",
    "from langchain.utilities import WikipediaAPIWrapper"
   ]
  },
  {
   "cell_type": "markdown",
   "id": "f5b7f0c2",
   "metadata": {},
   "source": [
    "## Create Tools\n",
    "\n",
    "We'll create a simple search tool using Wikipedia."
   ]
  },
  {
   "cell_type": "code",
   "execution_count": 4,
   "id": "5434b423",
   "metadata": {},
   "outputs": [],
   "source": [
    "# Initialize the Wikipedia tool\n",
    "wikipedia = WikipediaAPIWrapper()\n",
    "tools = [\n",
    "    Tool(\n",
    "        name=\"Wikipedia\",\n",
    "        func=wikipedia.run,\n",
    "        description=\"Useful for when you need to answer questions about general knowledge topics. Input should be a search query.\"\n",
    "    )\n",
    "]"
   ]
  },
  {
   "cell_type": "markdown",
   "id": "75cbfbfe",
   "metadata": {},
   "source": [
    "## Initialize the Agent\n",
    "\n",
    "Now we'll create our ReAct agent using the ChatOpenAI model and our Wikipedia tool."
   ]
  },
  {
   "cell_type": "code",
   "execution_count": 8,
   "id": "cbc7c71e",
   "metadata": {},
   "outputs": [],
   "source": [
    "# Initialize the language model\n",
    "llm = ChatOpenAI(temperature=0, model=\"gpt-3.5-turbo-1106\")\n",
    "\n",
    "# Initialize the ReAct agent\n",
    "agent = initialize_agent(tools, llm, agent=AgentType.ZERO_SHOT_REACT_DESCRIPTION,verbose=True)"
   ]
  },
  {
   "cell_type": "markdown",
   "id": "d44e5adf",
   "metadata": {},
   "source": [
    "## Run the Agent\n",
    "\n",
    "Let's test our agent with a question that requires searching for information."
   ]
  },
  {
   "cell_type": "code",
   "execution_count": 9,
   "id": "faf1b943",
   "metadata": {},
   "outputs": [
    {
     "name": "stdout",
     "output_type": "stream",
     "text": [
      "\n",
      "\n",
      "\u001b[1m> Entering new AgentExecutor chain...\u001b[0m\n",
      "\u001b[32;1m\u001b[1;3mI should use Wikipedia to find the answer to this question.\n",
      "Action: Wikipedia\n",
      "Action Input: \"Capital of Japan\"\u001b[0m\n",
      "Observation: \u001b[36;1m\u001b[1;3mPage: Capital of Japan\n",
      "Summary: The capital of Japan is Tokyo. Throughout history, the national capital has been in locations other than Tokyo. The oldest capital of Japan is Nara.\n",
      "\n",
      "Page: Capital punishment in Japan\n",
      "Summary: Capital punishment is a legal penalty in Japan. The Penal Code of Japan and several laws list 14 capital crimes. In practice, though, it is applied only for aggravated murder. Executions are carried out by long drop hanging, and take place at one of the seven execution chambers located in major cities across the country. The only crime punishable by a mandatory death sentence is instigation of foreign aggression.\n",
      "Death sentences are usually passed in cases of multiple murders, although there have been some extremely grave cases where individuals who committed a single murder have been sentenced to death and executed, such as those involving torture, extreme brutality or kidnapping with a demand for ransom.\n",
      "Since 2000, 98 inmates have been executed in Japan, with the most recent being the execution of Tomohiro Katō, the perpetrator of the Akihabara massacre in 2008, who was executed on 26 July 2022. There are currently 107 death row inmates awaiting execution. Japan is one of four developed democracies worldwide to actively apply the death penalty.\n",
      "\n",
      "Page: Prefectures of Japan\n",
      "Summary: Japan is divided into 47 prefectures (都道府県, todōfuken, [todoːɸɯ̥ꜜkeɴ] ), which rank immediately below the national government and form the country's first level of jurisdiction and administrative division. They include 43  prefectures proper (県, ken), two urban prefectures (府, fu: Osaka and Kyoto), one regional prefecture (道, dō: Hokkaidō) and one metropolis (都, to: Tokyo). \n",
      "In 1868, the Meiji Fuhanken sanchisei administration created the first prefectures (urban fu and rural ken) to replace the urban and rural administrators (bugyō, daikan, etc.) in the parts of the country previously controlled directly by the shogunate and a few territories of rebels/shogunate loyalists who had not submitted to the new government such as Aizu/Wakamatsu. In 1871, all remaining feudal domains (han) were also transformed into prefectures, so that prefectures subdivided the whole country. In several waves of territorial consolidation, today's 47 prefectures were formed by the turn of the century. In many instances, these are contiguous with the ancient ritsuryō provinces of Japan.\n",
      "Each prefecture's chief executive is a directly elected governor (知事, chiji). Ordinances and budgets are enacted by a unicameral assembly (議会, gikai) whose members are elected for four-year terms.\n",
      "Under a set of 1888–1890 laws on local government until the 1920s, each prefecture (then only 3 -fu and 42 -ken; Hokkaidō and Okinawa-ken were subject to different laws until the 20th century) was subdivided into cities (市, shi) and districts (郡, gun) and each district into towns (町, chō/machi) and villages (村, son/mura). Hokkaidō has 14 subprefectures that act as  General Subprefectural Bureaus (総合振興局, sōgō-shinkō-kyoku, \"Comprehensive Promotion Bureau\") and Subprefectural Bureaus (振興局, shinkō-kyoku, \"Promotion Bureau\") of the prefecture. Some other prefectures also have branch offices that carry out prefectural administrative functions outside the capital. Tokyo, the capital of Japan, is a merged city-prefecture; a metropolis, it has features of both cities and prefectures.\n",
      "Each prefecture has its own mon for identification, the equivalent of a coat of arms in the West.\u001b[0m\n",
      "Thought:\u001b[32;1m\u001b[1;3mI need to search for the population of Tokyo.\n",
      "Action: Wikipedia\n",
      "Action Input: \"Population of Tokyo\"\u001b[0m\n",
      "Observation: \u001b[36;1m\u001b[1;3mPage: Tokyo\n",
      "Summary: Tokyo (; Japanese: 東京, Tōkyō, [toːkʲoː] ), officially the Tokyo Metropolis (東京都, Tōkyō-to), is the capital of Japan and one of the most populous cities in the world, with a population of over 14 million residents as of 2023 and the second-most-populated capital in the world. The Greater Tokyo Area, which includes Tokyo and parts of six neighboring prefectures, is the most-populous metropolitan area in the world, with 41 million residents as of 2024.\n",
      "Located at the head of Tokyo Bay, Tokyo is part of the Kantō region on the central coast of Honshu, Japan's largest island. Tokyo serves as Japan's economic center and the seat of both the Japanese government and the Emperor of Japan. The Tokyo Metropolitan Government administers Tokyo's central 23 special wards (which formerly made up Tokyo City), various commuter towns and suburbs in its western area, and two outlying island chains known as the Tokyo Islands. Despite most of the world recognizing Tokyo as a city, since 1943 its governing structure has been more akin to a prefecture, with an accompanying Governor and Assembly taking precedence over the smaller municipal governments which make up the metropolis. Notable special wards in Tokyo include Chiyoda, the site of the National Diet Building and the Tokyo Imperial Palace; Shinjuku, the city's administrative center; and Shibuya, a commercial, cultural, and business hub in the city.\n",
      "Before the 17th century, Tokyo, then known as Edo, was mainly a fishing village. It gained political prominence in 1603 when it became the seat of the Tokugawa shogunate. By the mid-18th century, Edo was among the world's largest cities, with over a million residents. Following the Meiji Restoration in 1868, the imperial capital in Kyoto was moved to Edo, and the city was renamed Tokyo (lit. 'Eastern Capital'). In 1923, Tokyo was damaged substantially by the Great Kantō earthquake, and the city was later badly damaged by allied bombing raids during World War II. Beginning in the late 1940s, Tokyo underwent rapid reconstruction and expansion that contributed to the era's so-called Japanese economic miracle in which Japan's economy propelled to the second-largest in the world at the time behind that of the United States. As of 2023, the city is home to 29 of the world's 500 largest companies, as listed in the annual Fortune Global 500; the second-highest number of any city.\n",
      "In the 20th and 21st centuries, Tokyo became the first city in Asia to host the Summer Olympics and Paralympics in 1964, and again in 2021, and it also hosted three G7 summits in 1979, 1986, and 1993. Tokyo is an international research and development hub and an academic center with several major universities, including the University of Tokyo, the top-ranking university in the country. Tokyo Station is the central hub for the Shinkansen, Japan's high-speed railway network, and Shinjuku Station in Tokyo is the world's busiest train station. The city is home to the world's tallest tower, Tokyo Skytree. The Tokyo Metro Ginza Line, which opened in 1927, is the oldest underground metro line in Asia–Pacific.\n",
      "Tokyo's nominal gross domestic output was 113.7 trillion yen or US$1.04 trillion in FY2021 and accounted for 20.7% of the country's total economic output, which converts to 8.07 million yen or US$73,820 per capita. Including the Greater Tokyo Area, Tokyo is the second-largest metropolitan economy in the world after New York, with a 2022 gross metropolitan product estimated at US$2.08 trillion. Although Tokyo's status as a leading global financial hub has diminished with the Lost Decades since the 1990s, when the Tokyo Stock Exchange was the world's largest, with a market capitalization about 1.5 times that of the NYSE, the city is still a large financial hub, and the TSE remains among the world's top five major stock exchanges. Tokyo is categorized as an Alpha+ city by the Globalization and World Cities Research Network. The city is also recognized as one of the\u001b[0m\n",
      "Thought:\u001b[32;1m\u001b[1;3mI now know the final answer\n",
      "Final Answer: The capital of Japan is Tokyo, and its population is over 14 million residents as of 2023.\u001b[0m\n",
      "\n",
      "\u001b[1m> Finished chain.\u001b[0m\n",
      "Question: What is the capital of Japan, and what's its population?\n",
      "Answer: The capital of Japan is Tokyo, and its population is over 14 million residents as of 2023.\n"
     ]
    }
   ],
   "source": [
    "question = \"What is the capital of Japan, and what's its population?\"\n",
    "response = agent.run(question)\n",
    "\n",
    "print(f\"Question: {question}\")\n",
    "print(f\"Answer: {response}\")"
   ]
  },
  {
   "cell_type": "markdown",
   "id": "3c76e5cf",
   "metadata": {},
   "source": [
    "## Try Another Question"
   ]
  },
  {
   "cell_type": "code",
   "execution_count": 10,
   "id": "76968162",
   "metadata": {},
   "outputs": [
    {
     "name": "stdout",
     "output_type": "stream",
     "text": [
      "\n",
      "\n",
      "\u001b[1m> Entering new AgentExecutor chain...\u001b[0m\n",
      "\u001b[32;1m\u001b[1;3mI should use Wikipedia to find the answer to this question.\n",
      "Action: Wikipedia\n",
      "Action Input: 2022 FIFA World Cup winner\u001b[0m\n",
      "Observation: \u001b[36;1m\u001b[1;3mPage: 2022 FIFA World Cup\n",
      "Summary: The 2022 FIFA World Cup was the 22nd FIFA World Cup, the quadrennial world championship for national football teams organized by FIFA. It took place in Qatar from 20 November to 18 December 2022, after the country was awarded the hosting rights in 2010. It was the first World Cup to be held in the Middle East and Persian Gulf countries, and the second held entirely in Asia after the 2002 tournament in South Korea and Japan.\n",
      "This tournament was the last with 32 participating teams, with the number of teams being increased to 48 for the 2026 edition. To avoid the extremes of Qatar's hot climate, the event was held in November and December instead of during the traditional months of May, June, or July. It was held over a reduced time frame of 29 days with 64 matches played in eight venues across five cities. Qatar entered the event—their first World Cup—automatically as the host's national team, alongside 31 teams determined by the qualification process.\n",
      "Argentina were crowned the champions after winning the final against the title holder France 4–2 on penalties following a 3–3 draw after extra time. It was Argentina's third title and their first since 1986, as well as being the first nation from outside of Europe to win the tournament since 2002. French player Kylian Mbappé became the first player to score a hat-trick in a World Cup final since Geoff Hurst in the 1966 final and won the Golden Boot as he scored the most goals (eight) during the tournament. Mbappé also became the first player to score in two consecutive finals since Vavá of Brazil did the same in 1958 and 1962.\n",
      "Argentine captain Lionel Messi was voted the tournament's best player, winning his second Golden Ball. The tournament has been considered exceptionally poetic as the capstone of his career, with the win fulfilling for some commentators a previously unmet criterion to be regarded as the greatest player of all time. Teammates Emiliano Martínez and Enzo Fernández won the Golden Glove, awarded to the tournament's best goalkeeper; and the Young Player Award, awarded to the tournament's best young player, respectively. With 172 goals, the tournament set a record for the highest number of goals scored in the 32-team format, with every participating team scoring at least one goal.\n",
      "The choice to host the World Cup in Qatar attracted significant criticism, with concerns raised over the country's treatment of migrant workers, women, and members of the LGBT community, as well as Qatar's climate, lack of a strong football culture, scheduling changes, and allegations of bribery for hosting rights and wider FIFA corruption.\n",
      "\n",
      "\n",
      "\n",
      "Page: List of FIFA World Cup finals\n",
      "Summary: The FIFA World Cup is an international association football competition contested by the senior men's national teams of the Fédération Internationale de Football Association (FIFA), the sport's global governing body. The championship has been awarded every four years since 1930, except in 1942 and 1946, when it was not held because of World War II.\n",
      "The World Cup final is the last match of the competition, played by the only two teams remaining in contention, and the result determines which country is declared the world champion. It is a one-off match decided in regulation time. In case of a draw, extra time is used. If scores are then still level, a penalty shoot-out determines the winner, under the rules in force since 1986; prior to that, finals still tied after extra time would have been replayed, though this never proved necessary. The golden goal rule would have applied during extra time in 1998 and 2002, but was not put in practice either.\n",
      "The only exception to this type of format was the 1950 World Cup, which featured a final round-robin group of four teams; the decisive match of that group is often regarded as the de facto final of that tournament, including by FIFA itself.\n",
      "The team that wins the final receives the FIFA World Cup Trophy, and its name is engraved \u001b[0m\n",
      "Thought:\u001b[32;1m\u001b[1;3mI now know the final answer\n",
      "Final Answer: Argentina won the 2022 FIFA World Cup, and it was held in Qatar.\u001b[0m\n",
      "\n",
      "\u001b[1m> Finished chain.\u001b[0m\n",
      "Question: Who won the 2022 FIFA World Cup, and where was it held?\n",
      "Answer: Argentina won the 2022 FIFA World Cup, and it was held in Qatar.\n"
     ]
    }
   ],
   "source": [
    "question = \"Who won the 2022 FIFA World Cup, and where was it held?\"\n",
    "response = agent.run(question)\n",
    "\n",
    "print(f\"Question: {question}\")\n",
    "print(f\"Answer: {response}\")"
   ]
  },
  {
   "cell_type": "markdown",
   "id": "a83149d6",
   "metadata": {},
   "source": []
  }
 ],
 "metadata": {
  "jupytext": {
   "cell_metadata_filter": "-all",
   "main_language": "python",
   "notebook_metadata_filter": "-all"
  },
  "kernelspec": {
   "display_name": "cse434",
   "language": "python",
   "name": "python3"
  },
  "language_info": {
   "codemirror_mode": {
    "name": "ipython",
    "version": 3
   },
   "file_extension": ".py",
   "mimetype": "text/x-python",
   "name": "python",
   "nbconvert_exporter": "python",
   "pygments_lexer": "ipython3",
   "version": "3.12.7"
  }
 },
 "nbformat": 4,
 "nbformat_minor": 5
}
