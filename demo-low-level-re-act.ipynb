{
 "cells": [
  {
   "cell_type": "markdown",
   "id": "7c5cb240",
   "metadata": {},
   "source": [
    "# Low-Level ReAct Implementation Demo"
   ]
  },
  {
   "cell_type": "markdown",
   "id": "23be6a11",
   "metadata": {},
   "source": [
    "## Setup and Imports"
   ]
  },
  {
   "cell_type": "markdown",
   "id": "08258aff",
   "metadata": {},
   "source": [
    "To use this notebook: \n",
    "```bash \n",
    "pip install langchain python-dotenv langchain_community langchain_openai\n",
    "```"
   ]
  },
  {
   "cell_type": "code",
   "execution_count": 1,
   "id": "cdef20e5",
   "metadata": {},
   "outputs": [],
   "source": [
    "import os\n",
    "from dotenv import load_dotenv\n",
    "load_dotenv()\n",
    "\n",
    "from langchain_openai import ChatOpenAI\n",
    "from langchain.prompts import SystemMessagePromptTemplate\n",
    "from langchain.utilities import WikipediaAPIWrapper"
   ]
  },
  {
   "cell_type": "code",
   "execution_count": 2,
   "id": "371ebfd1",
   "metadata": {},
   "outputs": [],
   "source": [
    "assert 'OPENAI_API_KEY' in os.environ, \"Must set an OPENAI_API_KEY environment variable\""
   ]
  },
  {
   "cell_type": "code",
   "execution_count": 12,
   "id": "7a1f7f58",
   "metadata": {},
   "outputs": [],
   "source": [
    "chat = ChatOpenAI(temperature=0, model=\"gpt-3.5-turbo-1106\")"
   ]
  },
  {
   "cell_type": "markdown",
   "id": "5593b21c",
   "metadata": {},
   "source": [
    "## Create Mock Google Search Tool"
   ]
  },
  {
   "cell_type": "code",
   "execution_count": 13,
   "id": "dc7dfb5f",
   "metadata": {},
   "outputs": [
    {
     "name": "stdout",
     "output_type": "stream",
     "text": [
      "Mock Google Search Tool: {'search_on_google': {'function': <function search_on_google at 0x7c5ae949a160>, 'description': 'Searches on google for a query'}}\n"
     ]
    }
   ],
   "source": [
    "tools = {}\n",
    "\n",
    "\n",
    "def search_on_google(query: str):\n",
    "    return f\"Jason Derulo doesn't have a wife or partner.\"\n",
    "\n",
    "tools[\"search_on_google\"] = {\n",
    "    \"function\": search_on_google,\n",
    "    \"description\": \"Searches on google for a query\",\n",
    "}\n",
    "\n",
    "print(\"Mock Google Search Tool:\", tools)"
   ]
  },
  {
   "cell_type": "markdown",
   "id": "8ba1f715",
   "metadata": {},
   "source": [
    "## Set Base Prompt"
   ]
  },
  {
   "cell_type": "code",
   "execution_count": 14,
   "id": "497048b5",
   "metadata": {
    "lines_to_next_cell": 1
   },
   "outputs": [
    {
     "name": "stdout",
     "output_type": "stream",
     "text": [
      "Base Prompt: \n",
      "You will attempt to solve the problem of finding the answer to a question.\n",
      "Use chain-of-thought reasoning to solve through the problem, using the\n",
      "following pattern:\n",
      "\n",
      "1. Observe the original question:\n",
      "original_question: original_problem_text\n",
      "2. Create an observation with the following pattern:\n",
      "observation: observation_text\n",
      "3. Create a thought based on the observation with the following pattern:\n",
      "thought: thought_text\n",
      "4. Use tools to act on the thought with the following pattern:\n",
      "action: tool_name\n",
      "action_input: tool_input\n",
      "\n",
      "Do not guess or assume the tool results. Instead, provide a structured\n",
      "output that includes the action and action_input.\n",
      "\n",
      "You have access to the following tools: {tools}.\n",
      "\n",
      "original_question: {question}\n",
      "\n"
     ]
    }
   ],
   "source": [
    "base_prompt = \"\"\"\n",
    "You will attempt to solve the problem of finding the answer to a question.\n",
    "Use chain-of-thought reasoning to solve through the problem, using the\n",
    "following pattern:\n",
    "\n",
    "1. Observe the original question:\n",
    "original_question: original_problem_text\n",
    "2. Create an observation with the following pattern:\n",
    "observation: observation_text\n",
    "3. Create a thought based on the observation with the following pattern:\n",
    "thought: thought_text\n",
    "4. Use tools to act on the thought with the following pattern:\n",
    "action: tool_name\n",
    "action_input: tool_input\n",
    "\n",
    "Do not guess or assume the tool results. Instead, provide a structured\n",
    "output that includes the action and action_input.\n",
    "\n",
    "You have access to the following tools: {tools}.\n",
    "\n",
    "original_question: {question}\n",
    "\"\"\"\n",
    "\n",
    "print(\"Base Prompt:\", base_prompt)"
   ]
  },
  {
   "cell_type": "markdown",
   "id": "0e386d38",
   "metadata": {},
   "source": [
    "## Initial Invocation"
   ]
  },
  {
   "cell_type": "code",
   "execution_count": 15,
   "id": "b6e14a32",
   "metadata": {},
   "outputs": [],
   "source": [
    "messages = SystemMessagePromptTemplate.from_template(template=base_prompt).format_messages(tools=tools, question=\"Is Jason Derulo with a partner?\")"
   ]
  },
  {
   "cell_type": "code",
   "execution_count": 16,
   "id": "acfa9996",
   "metadata": {},
   "outputs": [
    {
     "name": "stdout",
     "output_type": "stream",
     "text": [
      "Initial Output: observation: Jason Derulo may have a public relationship with a partner.\n",
      "thought: I can search for recent news or social media posts about Jason Derulo to see if he is in a relationship.\n",
      "action: search_on_google\n",
      "action_input: Jason Derulo relationship status\n"
     ]
    }
   ],
   "source": [
    "output = chat.invoke(messages)\n",
    "print(\"Initial Output:\", output.content)"
   ]
  },
  {
   "cell_type": "code",
   "execution_count": 17,
   "id": "4a02866b",
   "metadata": {},
   "outputs": [
    {
     "name": "stdout",
     "output_type": "stream",
     "text": [
      "\n",
      "You will attempt to solve the problem of finding the answer to a question.\n",
      "Use chain-of-thought reasoning to solve through the problem, using the\n",
      "following pattern:\n",
      "\n",
      "1. Observe the original question:\n",
      "original_question: original_problem_text\n",
      "2. Create an observation with the following pattern:\n",
      "observation: observation_text\n",
      "3. Create a thought based on the observation with the following pattern:\n",
      "thought: thought_text\n",
      "4. Use tools to act on the thought with the following pattern:\n",
      "action: tool_name\n",
      "action_input: tool_input\n",
      "\n",
      "Do not guess or assume the tool results. Instead, provide a structured\n",
      "output that includes the action and action_input.\n",
      "\n",
      "You have access to the following tools: {'search_on_google': {'function': <function search_on_google at 0x7c5ae949a160>, 'description': 'Searches on google for a query'}}.\n",
      "\n",
      "original_question: Is Jason Derulo with a partner?\n",
      "\n"
     ]
    }
   ],
   "source": [
    "for message in messages:\n",
    "    print(message.content)"
   ]
  },
  {
   "cell_type": "code",
   "execution_count": 18,
   "id": "ac7d6d64",
   "metadata": {},
   "outputs": [
    {
     "name": "stdout",
     "output_type": "stream",
     "text": [
      "observation: Jason Derulo may have a public relationship status that can be found through online sources.\n",
      "thought: I can search online to find information about Jason Derulo's relationship status.\n",
      "action: search_on_google\n",
      "action_input: Jason Derulo relationship status\n"
     ]
    }
   ],
   "source": [
    "output = chat.invoke(messages)\n",
    "print(output.content)"
   ]
  },
  {
   "cell_type": "markdown",
   "id": "2c900d57",
   "metadata": {},
   "source": [
    "## Tool Invocation"
   ]
  },
  {
   "cell_type": "code",
   "execution_count": 19,
   "id": "a3d3ce37",
   "metadata": {},
   "outputs": [
    {
     "name": "stdout",
     "output_type": "stream",
     "text": [
      "{'action': 'search_on_google', 'action_input': 'Jason Derulo relationship status'}\n"
     ]
    }
   ],
   "source": [
    "import re\n",
    "\n",
    "pattern = re.compile(r'action:\\s*(?P<action>.*)\\s+action_input:\\s*(?P<action_input>.*)', re.DOTALL)\n",
    "match = re.search(pattern, output.content)\n",
    "assert match, \"We expect a tool to be identified in this demo, chould check & handle in reality...\"\n",
    "\n",
    "print(match.groupdict())"
   ]
  },
  {
   "cell_type": "code",
   "execution_count": 20,
   "id": "7fe2045c",
   "metadata": {},
   "outputs": [
    {
     "name": "stdout",
     "output_type": "stream",
     "text": [
      "Tool name: search_on_google\n",
      "Tool input: Jason Derulo relationship status\n"
     ]
    }
   ],
   "source": [
    "tool_name = match[\"action\"]\n",
    "tool_input = match[\"action_input\"]\n",
    "print(\"Tool name:\", tool_name)\n",
    "print(\"Tool input:\", tool_input)"
   ]
  },
  {
   "cell_type": "code",
   "execution_count": 21,
   "id": "75978b7c",
   "metadata": {},
   "outputs": [],
   "source": [
    "tool_result = tools[tool_name][\"function\"](tool_input)"
   ]
  },
  {
   "cell_type": "code",
   "execution_count": 22,
   "id": "78589219",
   "metadata": {},
   "outputs": [
    {
     "name": "stdout",
     "output_type": "stream",
     "text": [
      "The agent has opted to use the following tool:\n",
      "tool_name: search_on_google\n",
      "tool_input: Jason Derulo relationship status\n",
      "tool_result: Jason Derulo doesn't have a wife or partner.\n"
     ]
    }
   ],
   "source": [
    "\n",
    "print(f\"\"\"The agent has opted to use the following tool:\n",
    "tool_name: {tool_name}\n",
    "tool_input: {tool_input}\n",
    "tool_result: {tool_result}\"\"\")"
   ]
  },
  {
   "cell_type": "markdown",
   "id": "c34f678e",
   "metadata": {},
   "source": [
    "## Second Prompt"
   ]
  },
  {
   "cell_type": "code",
   "execution_count": 23,
   "id": "bc48d4da",
   "metadata": {},
   "outputs": [],
   "source": [
    "current_prompt = \"\"\"\n",
    "You are answering this query: Is Jason Derulo with a partner?\n",
    "\n",
    "Based on the provided tool result:\n",
    "tool_result: {tool_result}\n",
    "\n",
    "Either provide the next observation, action, action_input, or the final\n",
    "answer if available. If you are providing the final answer, you must return\n",
    "the following pattern: \"I've found the answer: final_answer\"\n",
    "\"\"\""
   ]
  },
  {
   "cell_type": "code",
   "execution_count": 24,
   "id": "2af5f357",
   "metadata": {},
   "outputs": [
    {
     "name": "stdout",
     "output_type": "stream",
     "text": [
      "\n",
      "You are answering this query: Is Jason Derulo with a partner?\n",
      "\n",
      "Based on the provided tool result:\n",
      "tool_result: Jason Derulo doesn't have a wife or partner.\n",
      "\n",
      "Either provide the next observation, action, action_input, or the final\n",
      "answer if available. If you are providing the final answer, you must return\n",
      "the following pattern: \"I've found the answer: final_answer\"\n",
      "\n"
     ]
    }
   ],
   "source": [
    "messages= SystemMessagePromptTemplate.from_template(template=current_prompt).format_messages(tool_result=tool_result)\n",
    "\n",
    "for m in messages:\n",
    "    print(m.content)"
   ]
  },
  {
   "cell_type": "code",
   "execution_count": 25,
   "id": "3b7757d8",
   "metadata": {},
   "outputs": [
    {
     "name": "stdout",
     "output_type": "stream",
     "text": [
      "Final Output: Next observation: It seems that Jason Derulo is currently not in a relationship.\n"
     ]
    }
   ],
   "source": [
    "output = chat.invoke(messages)\n",
    "\n",
    "print(\"Final Output:\", output.content)"
   ]
  },
  {
   "cell_type": "markdown",
   "id": "7ac1c9c5",
   "metadata": {},
   "source": [
    "## Using Wikipedia Instead of Mock Google Search"
   ]
  },
  {
   "cell_type": "markdown",
   "id": "b756e963",
   "metadata": {},
   "source": [
    "Assumes\n",
    "```bash\n",
    "pip install wikipedia\n",
    "```"
   ]
  },
  {
   "cell_type": "code",
   "execution_count": 26,
   "id": "49ac0b22",
   "metadata": {},
   "outputs": [
    {
     "name": "stdout",
     "output_type": "stream",
     "text": [
      "Wikipedia Tool: {'function': <bound method WikipediaAPIWrapper.run of WikipediaAPIWrapper(wiki_client=<module 'wikipedia' from '/opt/anaconda3/envs/cse434/lib/python3.12/site-packages/wikipedia/__init__.py'>, top_k_results=3, lang='en', load_all_available_meta=False, doc_content_chars_max=4000)>, 'description': 'Searches Wikipedia for information about a topic'}\n"
     ]
    }
   ],
   "source": [
    "# Create Wikipedia tool\n",
    "wikipedia = WikipediaAPIWrapper()\n",
    "\n",
    "tools[\"wikipedia_search\"] = {\n",
    "    \"function\": wikipedia.run,\n",
    "    \"description\": \"Searches Wikipedia for information about a topic\",\n",
    "}\n",
    "\n",
    "print(\"Wikipedia Tool:\", tools[\"wikipedia_search\"])"
   ]
  },
  {
   "cell_type": "code",
   "execution_count": 28,
   "id": "49be199e",
   "metadata": {},
   "outputs": [
    {
     "name": "stdout",
     "output_type": "stream",
     "text": [
      "Page: Closed-ended question Summary: A closed-ended question is any\n",
      "question for which a researcher provides research participants with\n",
      "options from which to choose a response. Closed-ended questions are\n",
      "sometimes phrased as a statement that requires a response. A closed-\n",
      "ended question contrasts with an open-ended question, which cannot\n",
      "easily be answered with specific information.    Page: Capital city\n",
      "Summary: A capital city or just capital is the municipality holding\n",
      "primary status in a country, state, province, department, or other\n",
      "subnational division, usually as its seat of the government. A capital\n",
      "is typically a city that physically encompasses the government's\n",
      "offices and meeting places; the status as capital is often designated\n",
      "by its law or constitution. In some jurisdictions, including several\n",
      "countries, different branches of government are in different\n",
      "settlements, sometimes meaning multiple official capitals. In some\n",
      "cases, a distinction is made between the official (constitutional)\n",
      "capital and the seat of government, which is in another place.\n",
      "English-language news media often use the name of the capital city as\n",
      "an alternative name for the government of the country of which it is\n",
      "the capital, as a form of metonymy. For example, the \"relations\n",
      "between London and Washington\" refers to the \"relations between the\n",
      "United Kingdom and the United States\".  Page: France Summary: France,\n",
      "officially the French Republic, is a country located primarily in\n",
      "Western Europe. Its overseas regions and territories include French\n",
      "Guiana in South America, Saint Pierre and Miquelon in the North\n",
      "Atlantic, the French West Indies, and many islands in Oceania and the\n",
      "Indian Ocean, giving it one of the largest discontiguous exclusive\n",
      "economic zones in the world. Metropolitan France shares borders with\n",
      "Belgium and Luxembourg to the north, Germany to the northeast,\n",
      "Switzerland to the east, Italy and Monaco to the southeast, Andorra\n",
      "and Spain to the south, and a maritime border with the United Kingdom\n",
      "to the northwest. Its metropolitan area extends from the Rhine to the\n",
      "Atlantic Ocean and from the Mediterranean Sea to the English Channel\n",
      "and the North Sea. Its eighteen integral regions (five of which are\n",
      "overseas) span a combined area of 643,801 km2 (248,573 sq mi) and have\n",
      "a total population of 68.4 million as of January 2024. France is a\n",
      "semi-presidential republic with its capital in Paris, the country's\n",
      "largest city and main cultural and commercial centre. Metropolitan\n",
      "France was settled during the Iron Age by Celtic tribes known as Gauls\n",
      "before Rome annexed the area in 51 BC, leading to a distinct Gallo-\n",
      "Roman culture. In the Early Middle Ages, the Franks formed the Kingdom\n",
      "of Francia, which became the heartland of the Carolingian Empire. The\n",
      "Treaty of Verdun of 843 partitioned the empire, with West Francia\n",
      "evolving into the Kingdom of France. In the High Middle Ages, France\n",
      "was a powerful but decentralized feudal kingdom, but from the mid-14th\n",
      "to the mid-15th centuries, France was plunged into a dynastic conflict\n",
      "with England known as the Hundred Years' War. In the 16th century, the\n",
      "French Renaissance saw culture flourish and a French colonial empire\n",
      "rise. Internally, France was dominated by the conflict with the House\n",
      "of Habsburg and the French Wars of Religion between Catholics and\n",
      "Huguenots. France was successful in the Thirty Years' War and further\n",
      "increased its influence during the reign of Louis XIV. The French\n",
      "Revolution of 1789 overthrew the Ancien Régime and produced the\n",
      "Declaration of the Rights of Man, which expresses the nation's ideals\n",
      "to this day. France reached its political and military zenith in the\n",
      "early 19th century under Napoleon Bonaparte, subjugating part of\n",
      "continental Europe and establishing the First French Empire. The\n",
      "collapse of the empire initiated a period of relative decline, in\n",
      "which France endured the Bourbon Restoration until the founding of the\n",
      "French Second Republic which was succeeded by the Second Fre\n"
     ]
    }
   ],
   "source": [
    "from textwrap import fill\n",
    "print(fill(wikipedia.run('What is the capital of France?')))"
   ]
  },
  {
   "cell_type": "markdown",
   "id": "e3f387f4",
   "metadata": {},
   "source": [
    "## Run ReAct with Wikipedia Tool"
   ]
  },
  {
   "cell_type": "code",
   "execution_count": 29,
   "id": "d38c003e",
   "metadata": {},
   "outputs": [
    {
     "name": "stdout",
     "output_type": "stream",
     "text": [
      "Initial Output (Wikipedia): observation: The question is asking for two pieces of information: the capital of France and its population.\n",
      "\n",
      "thought: I can first find the capital of France and then search for the population of that city.\n",
      "\n",
      "action: wikipedia_search\n",
      "action_input: France capital\n"
     ]
    }
   ],
   "source": [
    "# Initial invocation with Wikipedia\n",
    "output = chat.invoke((SystemMessagePromptTemplate\n",
    "                      .from_template(template=base_prompt) \n",
    "                      .format_messages(tools=tools, \n",
    "                                       question=\"What is the capital of France and its population?\")))\n",
    "print(\"Initial Output (Wikipedia):\", output.content)"
   ]
  },
  {
   "cell_type": "code",
   "execution_count": 30,
   "id": "6c4f0781",
   "metadata": {},
   "outputs": [
    {
     "name": "stdout",
     "output_type": "stream",
     "text": [
      "The agent has opted to use the following tool:\n",
      "tool_name: wikipedia_search\n",
      "tool_input: France capital\n",
      "tool_result: Page: Capital punishment in France Summary: Capital punishment in\n",
      "        France (French: peine de mort en France) is banned by Article\n",
      "        66-1 of the Constitution of the French Republic, voted as a\n",
      "        constitutional amendment by the Congress of the French\n",
      "        Parliament on 19 February 2007 and simply stating \"No one can\n",
      "        be sentenced to the death penalty\" (French: Nul ne peut être\n",
      "        condamné à la peine de mort). The death penalty was already\n",
      "        declared illegal on 9 October 1981 when President François\n",
      "        Mitterrand signed a law prohibiting the judicial system from\n",
      "        using it and commuting the sentences of the seven people on\n",
      "        death row to life imprisonment. The last execution took place\n",
      "        by guillotine, being the main legal method since the French\n",
      "        Revolution; Hamida Djandoubi, a Tunisian citizen convicted of\n",
      "        torture and murder on French soil, was put to death in\n",
      "        September 1977 in Marseille. Major French death penalty\n",
      "        abolitionists across time have included philosopher Voltaire;\n",
      "        poet Victor Hugo; politicians Léon Gambetta, Jean Jaurès and\n",
      "        Aristide Briand; and writers Alphonse de Lamartine and Albert\n",
      "        Camus.    Page: Cayenne Summary: Cayenne (; French\n",
      "        pronunciation: [kajɛn] ; Guianese Creole French: Kayenn) is\n",
      "        the prefecture of French Guiana, an overseas region and\n",
      "        department of France located in South America and its capital\n",
      "        city.  The city stands on a former island at the mouth of the\n",
      "        Cayenne River on the Atlantic coast.  The city's motto is\n",
      "        \"fert aurum industria\", which means \"work brings wealth\".\n",
      "        Cayenne is the largest Francophone city of the South American\n",
      "        continent. In the 2021 census, there were 151,103 inhabitants\n",
      "        in the metropolitan area of Cayenne (as defined by INSEE),\n",
      "        63,468 of whom lived in the city (commune) of Cayenne proper.\n",
      "        Page: List of capitals of France Summary: This is a\n",
      "        chronological list of capitals of France. The capital of\n",
      "        France has been Paris since its liberation in 1944.\n"
     ]
    }
   ],
   "source": [
    "# Tool invocation\n",
    "match = re.search(pattern, output.content)\n",
    "tool_name = match[\"action\"]\n",
    "tool_input = match[\"action_input\"]\n",
    "tool_result = tools[tool_name][\"function\"](tool_input)\n",
    "\n",
    "from textwrap import fill\n",
    "print(f\"\"\"The agent has opted to use the following tool:\n",
    "tool_name: {tool_name}\n",
    "tool_input: {tool_input}\n",
    "tool_result: {fill(tool_result, subsequent_indent='        ')}\"\"\")"
   ]
  },
  {
   "cell_type": "code",
   "execution_count": 31,
   "id": "04b3626b",
   "metadata": {},
   "outputs": [
    {
     "name": "stdout",
     "output_type": "stream",
     "text": [
      "Final Output (Wikipedia): The capital of France is Paris. As for the population, the tool result does not provide the exact population of Paris, but it does mention that in 2021, there were 151,103 inhabitants in the metropolitan area of Cayenne, with 63,468 living in the city of Cayenne. This information is not relevant to the population of Paris. Therefore, I recommend conducting a specific search for the population of Paris.\n"
     ]
    }
   ],
   "source": [
    "# Second prompt\n",
    "current_prompt = \"\"\"\n",
    "You are answering this query: What is the capital of France and its population?\n",
    "\n",
    "Based on the provided tool result:\n",
    "tool_result: {tool_result}\n",
    "\n",
    "Either provide the next observation, action, action_input, or the final\n",
    "answer if available. If you are providing the final answer, you must return\n",
    "the following pattern: \"I've found the answer: final_answer\"\n",
    "\"\"\"\n",
    "\n",
    "output = chat.invoke((SystemMessagePromptTemplate.\n",
    "                      from_template(template=current_prompt)\n",
    "                      .format_messages(tool_result=tool_result)))\n",
    "\n",
    "print(\"Final Output (Wikipedia):\", output.content)"
   ]
  },
  {
   "cell_type": "code",
   "execution_count": null,
   "id": "825362d9",
   "metadata": {},
   "outputs": [],
   "source": []
  }
 ],
 "metadata": {
  "jupytext": {
   "cell_metadata_filter": "-all",
   "main_language": "python",
   "notebook_metadata_filter": "-all"
  },
  "kernelspec": {
   "display_name": "cse434",
   "language": "python",
   "name": "python3"
  },
  "language_info": {
   "codemirror_mode": {
    "name": "ipython",
    "version": 3
   },
   "file_extension": ".py",
   "mimetype": "text/x-python",
   "name": "python",
   "nbconvert_exporter": "python",
   "pygments_lexer": "ipython3",
   "version": "3.12.7"
  }
 },
 "nbformat": 4,
 "nbformat_minor": 5
}
